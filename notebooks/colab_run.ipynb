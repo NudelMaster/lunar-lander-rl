{
  "cells": [
    {
      "cell_type": "markdown",
      "metadata": {},
      "source": [
        "# LunarLander Actor-Critic in Google Colab\n",
        "This notebook shows how to clone the repo, install dependencies, train the agent, and evaluate it—all from within Colab.\n"
      ]
    },
    {
      "cell_type": "code",
      "execution_count": null,
      "metadata": {},
      "outputs": [],
      "source": [
        "# 1) Clone this repository and switch into it\n",
        "!git clone https://github.com/NudelMaster/lunar-lander-rl.git\n",
        "%cd lunar-lander-rl\n"
      ]
    },
    {
      "cell_type": "markdown",
      "metadata": {},
      "source": [
        "## 2) Install system packages (Box2D, display) and Python dependencies\n",
        "\n",
        "Run these only in Colab. If you run locally, skip the `apt-get` lines and just do `pip install -r requirements.txt`."
      ]
    },
    {
      "cell_type": "code",
      "execution_count": null,
      "metadata": {},
      "outputs": [],
      "source": [
        "%%bash\n",
        "apt-get -qq install xvfb x11-utils &> /dev/null\n",
        "pip install ufal.pybox2d --quiet\n",
        "pip install pyvirtualdisplay moviepy pyglet PyOpenGL-accelerate --quiet\n",
        "pip install numpy==1.23.5 matplotlib==3.7.0 --quiet\n",
        "pip install -r requirements.txt --quiet\n"
      ]
    },
    {
      "cell_type": "markdown",
      "metadata": {},
      "source": [
        "## 3) (Optional) Create a virtual display for Gym rendering\n",
        "\n",
        "This ensures `env.render(\"rgb_array\")` works headlessly."
      ]
    },
    {
      "cell_type": "code",
      "execution_count": null,
      "metadata": {},
      "outputs": [],
      "source": [
        "%%bash\n",
        "python - <<EOF\n",
        "from pyvirtualdisplay import Display\n",
        "disp = Display(visible=0, size=(1400, 900))\n",
        "disp.start()\n",
        "EOF\n"
      ]
    },
    {
      "cell_type": "markdown",
      "metadata": {},
      "source": [
        "## 4) Train the Agent\n",
        "\n",
        "This cell imports the `Agent` class and kicks off training for up to `NUM_ITER` episodes."
      ]
    },
    {
      "cell_type": "code",
      "execution_count": null,
      "metadata": {},
      "outputs": [],
      "source": [
        "from agent import Agent\n",
        "from config import NUM_ITER, SCORE_TO_SOLVE\n",
        "\n",
        "agent = Agent()\n",
        "agent.train(max_episodes=NUM_ITER, score_to_solve=SCORE_TO_SOLVE, resume=False)\n"
      ]
    },
    {
      "cell_type": "markdown",
      "metadata": {},
      "source": [
        "## 5) Evaluate the Trained Agent\n",
        "\n",
        "After training finishes (or early-stops), a file `lunar_lander_actor_critic.pth` will exist.  \n",
        "We now evaluate it and show a GIF.  \n",
        "The GIF will be saved as `lunar_lander_final.gif` in this folder."
      ]
    },
    {
      "cell_type": "code",
      "execution_count": null,
      "metadata": {},
      "outputs": [],
      "source": [
        "clip = agent.evaluate(model_path=\"lunar_lander_actor_critic.pth\", greedy=True)\n",
        "if clip:\n",
        "    from IPython.display import HTML\n",
        "    display(HTML(clip.ipython_display()))\n"
      ]
    },
    {
      "cell_type": "markdown",
      "metadata": {},
      "source": [
        "---\n",
        "\n",
        "**Open this notebook in Colab:**  \n",
        "[![Open in Colab](https://colab.research.google.com/assets/colab-badge.svg)]",
        "(https://colab.research.google.com/github/NudelMaster/lunar-lander-rl/blob/main/notebooks/colab_run.ipynb)\n"
      ]
    }
  ],
  "metadata": {
    "kernelspec": {
      "display_name": "Python 3",
      "language": "python",
      "name": "python3"
    },
    "language_info": {
      "name": "python",
      "version": "3.x"
    }
  },
  "nbformat": 4,
  "nbformat_minor": 2
}
